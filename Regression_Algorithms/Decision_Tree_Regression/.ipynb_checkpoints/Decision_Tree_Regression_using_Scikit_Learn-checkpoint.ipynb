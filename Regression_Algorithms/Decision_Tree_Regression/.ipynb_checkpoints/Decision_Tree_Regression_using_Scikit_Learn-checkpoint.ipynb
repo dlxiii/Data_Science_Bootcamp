{
 "cells": [
  {
   "cell_type": "code",
   "execution_count": 1,
   "metadata": {},
   "outputs": [
    {
     "data": {
      "text/html": [
       "<div>\n",
       "<style scoped>\n",
       "    .dataframe tbody tr th:only-of-type {\n",
       "        vertical-align: middle;\n",
       "    }\n",
       "\n",
       "    .dataframe tbody tr th {\n",
       "        vertical-align: top;\n",
       "    }\n",
       "\n",
       "    .dataframe thead th {\n",
       "        text-align: right;\n",
       "    }\n",
       "</style>\n",
       "<table border=\"1\" class=\"dataframe\">\n",
       "  <thead>\n",
       "    <tr style=\"text-align: right;\">\n",
       "      <th></th>\n",
       "      <th>Age</th>\n",
       "      <th>Height</th>\n",
       "    </tr>\n",
       "  </thead>\n",
       "  <tbody>\n",
       "    <tr>\n",
       "      <th>0</th>\n",
       "      <td>10</td>\n",
       "      <td>138</td>\n",
       "    </tr>\n",
       "    <tr>\n",
       "      <th>1</th>\n",
       "      <td>11</td>\n",
       "      <td>138</td>\n",
       "    </tr>\n",
       "    <tr>\n",
       "      <th>2</th>\n",
       "      <td>12</td>\n",
       "      <td>138</td>\n",
       "    </tr>\n",
       "    <tr>\n",
       "      <th>3</th>\n",
       "      <td>13</td>\n",
       "      <td>139</td>\n",
       "    </tr>\n",
       "    <tr>\n",
       "      <th>4</th>\n",
       "      <td>14</td>\n",
       "      <td>139</td>\n",
       "    </tr>\n",
       "  </tbody>\n",
       "</table>\n",
       "</div>"
      ],
      "text/plain": [
       "   Age  Height\n",
       "0   10     138\n",
       "1   11     138\n",
       "2   12     138\n",
       "3   13     139\n",
       "4   14     139"
      ]
     },
     "execution_count": 1,
     "metadata": {},
     "output_type": "execute_result"
    }
   ],
   "source": [
    "# Import necessary libraries \n",
    "import pandas as pd \n",
    "import numpy as np \n",
    "import matplotlib.pyplot as plt \n",
    "\n",
    "# Import the Height Weight Dataset \n",
    "data = pd.read_csv('Height_Age_Dataset.csv') \n",
    "data.head()"
   ]
  },
  {
   "cell_type": "code",
   "execution_count": 2,
   "metadata": {},
   "outputs": [],
   "source": [
    "#Store the data in the form of dependent and independent variables separately\n",
    "X = data.iloc[:, 0:1].values \n",
    "y = data.iloc[:, 1].values "
   ]
  },
  {
   "cell_type": "code",
   "execution_count": 3,
   "metadata": {},
   "outputs": [],
   "source": [
    "#Split the Dataset into Training and Test Dataset\n",
    "from sklearn.model_selection import train_test_split\n",
    "X_train, X_test, y_train, y_test = train_test_split(X, y, test_size=0.3, random_state=0)"
   ]
  },
  {
   "cell_type": "code",
   "execution_count": 5,
   "metadata": {},
   "outputs": [
    {
     "data": {
      "text/plain": [
       "DecisionTreeRegressor(criterion='mse', max_depth=None, max_features=None,\n",
       "                      max_leaf_nodes=None, min_impurity_decrease=0.0,\n",
       "                      min_impurity_split=None, min_samples_leaf=1,\n",
       "                      min_samples_split=2, min_weight_fraction_leaf=0.0,\n",
       "                      presort=False, random_state=0, splitter='best')"
      ]
     },
     "execution_count": 5,
     "metadata": {},
     "output_type": "execute_result"
    }
   ],
   "source": [
    "#Import the Decision Tree Regressor \n",
    "from sklearn.tree import DecisionTreeRegressor  \n",
    "  \n",
    "#Create a decision tree regressor object  from DecisionTreeRegressor class\n",
    "DtReg = DecisionTreeRegressor(random_state = 0)  \n",
    "  \n",
    "#Fit the decision tree regressor with training data represented by X_train and y_train\n",
    "DtReg.fit(X_train, y_train)"
   ]
  },
  {
   "cell_type": "code",
   "execution_count": 7,
   "metadata": {},
   "outputs": [
    {
     "name": "stdout",
     "output_type": "stream",
     "text": [
      "R-Square Error associated with Decision Tree Regression is: 0.9941828370498541\n"
     ]
    }
   ],
   "source": [
    "#Predicted Height from test dataset w.r.t Decision Tree Regression\n",
    "y_predict_dtr = DtReg.predict((X_test))\n",
    "\n",
    "#Model Evaluation using R-Square for Decision Tree Regression\n",
    "from sklearn import metrics\n",
    "r_square = metrics.r2_score(y_test, y_predict_dtr)\n",
    "print('R-Square Error associated with Decision Tree Regression is:', r_square)"
   ]
  },
  {
   "cell_type": "code",
   "execution_count": 23,
   "metadata": {},
   "outputs": [
    {
     "data": {
      "image/png": "[encoded data removed]",
      "text/plain": [
       "<Figure size 1440x216 with 1 Axes>"
      ]
     },
     "metadata": {
      "needs_background": "light"
     },
     "output_type": "display_data"
    },
    {
     "data": {
      "text/plain": [
       "<Figure size 72x72 with 0 Axes>"
      ]
     },
     "metadata": {},
     "output_type": "display_data"
    }
   ],
   "source": [
    "''' Visualise the Decision Tree Regression by creating range of values from min value of X_train to max value of X_train  \n",
    "having a difference of 0.01 between two consecutive values'''\n",
    "X_val = np.arange(min(X_train), max(X_train), 0.01) \n",
    "  \n",
    "#Reshape the data into a len(X_val)*1 array in order to make a column out of the X_val values \n",
    "X_val = X_val.reshape((len(X_val), 1))  \n",
    "  \n",
    "#Define a scatter plot for training data \n",
    "plt.scatter(X_train, y_train, color = 'blue') \n",
    "  \n",
    "#Plot the predicted data \n",
    "plt.plot(X_val, DtReg.predict(X_val), color = 'red')  \n",
    "  \n",
    "#Define the title \n",
    "plt.title('Height prediction using Decision Tree Regression')  \n",
    "  \n",
    "#Define X axis label \n",
    "plt.xlabel('Age') \n",
    "  \n",
    "#Define Y axis label \n",
    "plt.ylabel('Height') \n",
    "\n",
    "#Set the size of the plot for better clarity\n",
    "plt.figure(figsize=(1,1))\n",
    "  \n",
    "#Draw the plot \n",
    "plt.show() "
   ]
  },
  {
   "cell_type": "code",
   "execution_count": 22,
   "metadata": {},
   "outputs": [],
   "source": [
    "#Import export_graphviz package\n",
    "from sklearn.tree import export_graphviz  \n",
    "  \n",
    "#Store the decision tree in a tree.dot file in order to visualize the plot.\n",
    "#Visualize it on http://www.webgraphviz.com/ by copying and pasting related data from dtregression.dot file\n",
    "export_graphviz(DtReg, out_file ='dtregression.dot', \n",
    "               feature_names =['Age']) "
   ]
  },
  {
   "cell_type": "code",
   "execution_count": 29,
   "metadata": {},
   "outputs": [
    {
     "name": "stdout",
     "output_type": "stream",
     "text": [
      "Predicted Height:  151\n"
     ]
    }
   ],
   "source": [
    "# Predicting Height based on Age using Decision Tree Regression \n",
    "height_pred = DtReg.predict([[41]])\n",
    "print(\"Predicted Height: % d\"% height_pred) "
   ]
  },
  {
   "cell_type": "code",
   "execution_count": null,
   "metadata": {},
   "outputs": [],
   "source": []
  }
 ],
 "metadata": {
  "kernelspec": {
   "display_name": "Python 3",
   "language": "python",
   "name": "python3"
  },
  "language_info": {
   "codemirror_mode": {
    "name": "ipython",
    "version": 3
   },
   "file_extension": ".py",
   "mimetype": "text/x-python",
   "name": "python",
   "nbconvert_exporter": "python",
   "pygments_lexer": "ipython3",
   "version": "3.7.3"
  }
 },
 "nbformat": 4,
 "nbformat_minor": 2
}
